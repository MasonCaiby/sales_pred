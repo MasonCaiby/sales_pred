{
 "cells": [
  {
   "cell_type": "code",
   "execution_count": null,
   "metadata": {},
   "outputs": [],
   "source": [
    "import pandas as pd\n",
    "from sklearn.svm import SVR"
   ]
  },
  {
   "cell_type": "markdown",
   "metadata": {},
   "source": [
    "Different simple models\n",
    "1. Weekly median from all time\n",
    "2. Monthly median from all time\n",
    "3. Monthly median from last year\n",
    "4. Last year's value\n",
    "6. Lin Reg for all years on store, dept, week"
   ]
  },
  {
   "cell_type": "code",
   "execution_count": null,
   "metadata": {},
   "outputs": [],
   "source": [
    "train = pd.read_csv(\"train.csv\")\n",
    "test = pd.read_csv(\"test.csv\")\n",
    "features = pd.read_csv(\"features.csv\")\n",
    "stores = pd.read_csv(\"stores.csv\")"
   ]
  },
  {
   "cell_type": "code",
   "execution_count": null,
   "metadata": {},
   "outputs": [],
   "source": [
    "# feature engineering for all\n",
    "def add_feautres(target, stores, features):\n",
    "    temp = target.merge(stores, on=\"Store\").merge(features, on=[\"Store\", \"Date\"])\n",
    "    temp.drop(\"IsHoliday_y\", axis=1, inplace=True)\n",
    "    temp.drop(\"Size\", axis=1, inplace=True)\n",
    "    temp.drop(\"Temperature\", axis=1, inplace=True)\n",
    "    temp.drop(\"Type\", axis=1, inplace=True)\n",
    "    temp.fillna(0, inplace=True)\n",
    "    temp[\"Date\"] = pd.to_datetime(temp.Date)\n",
    "    temp[\"year\"] = temp.Date.dt.year\n",
    "    temp[\"week\"] = temp.Date.dt.week\n",
    "    temp[\"month\"] = temp.Date.dt.month\n",
    "    \n",
    "    return temp\n",
    "\n",
    "train = add_feautres(train, stores, features)\n",
    "test = add_feautres(test, stores, features)"
   ]
  },
  {
   "cell_type": "code",
   "execution_count": null,
   "metadata": {},
   "outputs": [],
   "source": [
    "def make_dept_weekly_median(df):\n",
    "    \"\"\" takes a training df and returns a df with the store, dept, week, \n",
    "        and avg weekly sales\"\"\"\n",
    "    gb = df.groupby([\"Store\", \"Dept\", \"week\"]).median()[\"Weekly_Sales\"]\n",
    "    gb.rename({\"Weekly_Sales\": \"average_weekly_sales\"})\n",
    "    return gb\n",
    "\n",
    "def make_dept_monthly_median(df):\n",
    "    \"\"\" takes a training df and returns a df with the store, dept, week, \n",
    "        and avg monthly sales\"\"\"\n",
    "    gb = df.groupby([\"Store\", \"Dept\", \"month\"]).median()[\"Weekly_Sales\"]\n",
    "    gb.rename({\"Weekly_Sales\": \"average_monthly_sales\"})\n",
    "    return gb\n",
    "\n",
    "def make_last_record(df):\n",
    "    \"\"\" Gets the latest value for each of the store, dept, week combinations\"\"\"\n",
    "    gb_idx = df.groupby([\"Store\", \"Dept\", \"week\"])['year'].transform(max) == df['year']\n",
    "    prev_year = df[gb_idx][[\"Store\", \"Dept\", \"week\", 'Weekly_Sales', \"month\"]]\n",
    "    return prev_year"
   ]
  },
  {
   "cell_type": "code",
   "execution_count": null,
   "metadata": {},
   "outputs": [],
   "source": [
    "def predict_from_median(means_gb, target_df, time):\n",
    "    return target_df.join(means_gb, on=[\"Store\", \"Dept\", time], rsuffix= \"_\"+time+\"_means\")\n",
    "\n",
    "def add_prev_year(prev_year_gb, target_df):\n",
    "    return target_df.join(prev_year_gb, on=[\"Store\", \"Dept\", \"week\"], rsuffix=\"_pyear\")"
   ]
  },
  {
   "cell_type": "code",
   "execution_count": null,
   "metadata": {},
   "outputs": [],
   "source": [
    "prev_year = make_last_record(train)\n",
    "monthly_medians = make_dept_monthly_median(prev_year)\n",
    "weekly_medians = make_dept_weekly_median(train)"
   ]
  },
  {
   "cell_type": "code",
   "execution_count": null,
   "metadata": {},
   "outputs": [],
   "source": [
    "models = {}\n",
    "for store in train.Store.unique():\n",
    "    for dept in train.Dept.unique():\n",
    "        for week in train.week.unique():\n",
    "            try:\n",
    "                key = f\"{store}_{dept}_{week}\"\n",
    "\n",
    "                years = train[(train[\"Store\"] == store) & \n",
    "                              (train[\"Dept\"] == dept) & \n",
    "                              (train[\"week\"] == week)][\"year\"]\n",
    "                values = train[(train[\"Store\"] == store) & \n",
    "                               (train[\"Dept\"] == dept) & \n",
    "                               (train[\"week\"] == week)][\"Weekly_Sales\"]\n",
    "\n",
    "                svr_rbf = SVR(kernel='rbf', C=100, gamma=0.1, epsilon=.1)\n",
    "                svr_rbf.fit(years.values.reshape(-1,1), values)\n",
    "                models[key] = svr_rbf\n",
    "            except:\n",
    "                print(key)\n",
    "                print(\"\\t\",years)\n",
    "                print(\"\\t\",values)\n",
    "                print()\n",
    "    "
   ]
  },
  {
   "cell_type": "code",
   "execution_count": null,
   "metadata": {},
   "outputs": [],
   "source": []
  },
  {
   "cell_type": "code",
   "execution_count": null,
   "metadata": {},
   "outputs": [],
   "source": []
  },
  {
   "cell_type": "code",
   "execution_count": null,
   "metadata": {},
   "outputs": [],
   "source": []
  },
  {
   "cell_type": "code",
   "execution_count": null,
   "metadata": {},
   "outputs": [],
   "source": []
  },
  {
   "cell_type": "code",
   "execution_count": null,
   "metadata": {},
   "outputs": [],
   "source": []
  }
 ],
 "metadata": {
  "kernelspec": {
   "display_name": "Python 3",
   "language": "python",
   "name": "python3"
  },
  "language_info": {
   "codemirror_mode": {
    "name": "ipython",
    "version": 3
   },
   "file_extension": ".py",
   "mimetype": "text/x-python",
   "name": "python",
   "nbconvert_exporter": "python",
   "pygments_lexer": "ipython3",
   "version": "3.7.4"
  }
 },
 "nbformat": 4,
 "nbformat_minor": 2
}
